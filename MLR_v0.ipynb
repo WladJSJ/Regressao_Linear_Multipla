{
 "cells": [
  {
   "cell_type": "markdown",
   "metadata": {},
   "source": [
    "<hr>\n",
    "<h1><center> Regressão Linear Multipla </h1>\n",
    "<hr>\n",
    "\n",
    "    Neste Notebook, faço um exemplo de aplicação de Regressão Linear Multipla (RLM) como modelo preditor;\n",
    "    Utilizei os dados de Preço de Casas, do Kaggle.\n",
    "    \n",
    "<h3> Passos Anteriores:</h3>\n",
    "    \n",
    "    1 - Preparação dos dados\n",
    "        1.1 - Dados Faltantes\n",
    "        1.2 - Outliers\n",
    "    \n",
    "<h3> Próximos passos</h3>\n",
    "\n",
    "    2 - Modelo de Regressão Linear\n",
    "        2.1 Treino\n",
    "        2.2 Previsão\n",
    "\n",
    "<hr>\n",
    "\n",
    "    Começo importando todas as bibliotecas usadas ao longo do programa;"
   ]
  },
  {
   "cell_type": "code",
   "execution_count": 1,
   "metadata": {},
   "outputs": [],
   "source": [
    "import pandas as pd\n",
    "import numpy as np\n",
    "import matplotlib.pyplot as plt\n",
    "%matplotlib inline\n",
    "from sklearn.model_selection import train_test_split\n",
    "from sklearn.linear_model import LinearRegression\n",
    "from sklearn import metrics\n",
    "import seaborn as sns"
   ]
  },
  {
   "cell_type": "markdown",
   "metadata": {},
   "source": [
    "<hr>\n",
    "Defino uma função para carregar os dados criados nos passos anteriores"
   ]
  },
  {
   "cell_type": "code",
   "execution_count": 2,
   "metadata": {},
   "outputs": [],
   "source": [
    "def beam_me_up_Scotty(file):\n",
    "    dataset = pd.read_csv(file)    \n",
    "    print(dataset.shape)\n",
    "    return dataset"
   ]
  },
  {
   "cell_type": "markdown",
   "metadata": {},
   "source": [
    "<hr>\n",
    "Vou começar pelo arquivo que teve os dados faltantes tratados, mas ainda contém Outliers. Em seguida repetimos a aplicação do modelo para os casos sem outliers. Faço isso para compararmos os resultados!"
   ]
  },
  {
   "cell_type": "code",
   "execution_count": 3,
   "metadata": {},
   "outputs": [
    {
     "name": "stdout",
     "output_type": "stream",
     "text": [
      "(1412, 78)\n"
     ]
    },
    {
     "data": {
      "text/html": [
       "<div>\n",
       "<style scoped>\n",
       "    .dataframe tbody tr th:only-of-type {\n",
       "        vertical-align: middle;\n",
       "    }\n",
       "\n",
       "    .dataframe tbody tr th {\n",
       "        vertical-align: top;\n",
       "    }\n",
       "\n",
       "    .dataframe thead th {\n",
       "        text-align: right;\n",
       "    }\n",
       "</style>\n",
       "<table border=\"1\" class=\"dataframe\">\n",
       "  <thead>\n",
       "    <tr style=\"text-align: right;\">\n",
       "      <th></th>\n",
       "      <th>Unnamed: 0</th>\n",
       "      <th>Id</th>\n",
       "      <th>MSSubClass</th>\n",
       "      <th>MSZoning</th>\n",
       "      <th>LotFrontage</th>\n",
       "      <th>LotArea</th>\n",
       "      <th>Street</th>\n",
       "      <th>LotShape</th>\n",
       "      <th>LandContour</th>\n",
       "      <th>Utilities</th>\n",
       "      <th>...</th>\n",
       "      <th>EnclosedPorch</th>\n",
       "      <th>3SsnPorch</th>\n",
       "      <th>ScreenPorch</th>\n",
       "      <th>PoolArea</th>\n",
       "      <th>MiscVal</th>\n",
       "      <th>MoSold</th>\n",
       "      <th>YrSold</th>\n",
       "      <th>SaleType</th>\n",
       "      <th>SaleCondition</th>\n",
       "      <th>SalePrice</th>\n",
       "    </tr>\n",
       "  </thead>\n",
       "  <tbody>\n",
       "    <tr>\n",
       "      <th>0</th>\n",
       "      <td>0</td>\n",
       "      <td>1</td>\n",
       "      <td>60</td>\n",
       "      <td>RL</td>\n",
       "      <td>65.0</td>\n",
       "      <td>8450</td>\n",
       "      <td>Pave</td>\n",
       "      <td>Reg</td>\n",
       "      <td>Lvl</td>\n",
       "      <td>AllPub</td>\n",
       "      <td>...</td>\n",
       "      <td>0</td>\n",
       "      <td>0</td>\n",
       "      <td>0</td>\n",
       "      <td>0</td>\n",
       "      <td>0</td>\n",
       "      <td>2</td>\n",
       "      <td>2008</td>\n",
       "      <td>WD</td>\n",
       "      <td>Normal</td>\n",
       "      <td>208500</td>\n",
       "    </tr>\n",
       "    <tr>\n",
       "      <th>1</th>\n",
       "      <td>1</td>\n",
       "      <td>2</td>\n",
       "      <td>20</td>\n",
       "      <td>RL</td>\n",
       "      <td>80.0</td>\n",
       "      <td>9600</td>\n",
       "      <td>Pave</td>\n",
       "      <td>Reg</td>\n",
       "      <td>Lvl</td>\n",
       "      <td>AllPub</td>\n",
       "      <td>...</td>\n",
       "      <td>0</td>\n",
       "      <td>0</td>\n",
       "      <td>0</td>\n",
       "      <td>0</td>\n",
       "      <td>0</td>\n",
       "      <td>5</td>\n",
       "      <td>2007</td>\n",
       "      <td>WD</td>\n",
       "      <td>Normal</td>\n",
       "      <td>181500</td>\n",
       "    </tr>\n",
       "    <tr>\n",
       "      <th>2</th>\n",
       "      <td>2</td>\n",
       "      <td>3</td>\n",
       "      <td>60</td>\n",
       "      <td>RL</td>\n",
       "      <td>68.0</td>\n",
       "      <td>11250</td>\n",
       "      <td>Pave</td>\n",
       "      <td>IR1</td>\n",
       "      <td>Lvl</td>\n",
       "      <td>AllPub</td>\n",
       "      <td>...</td>\n",
       "      <td>0</td>\n",
       "      <td>0</td>\n",
       "      <td>0</td>\n",
       "      <td>0</td>\n",
       "      <td>0</td>\n",
       "      <td>9</td>\n",
       "      <td>2008</td>\n",
       "      <td>WD</td>\n",
       "      <td>Normal</td>\n",
       "      <td>223500</td>\n",
       "    </tr>\n",
       "    <tr>\n",
       "      <th>3</th>\n",
       "      <td>3</td>\n",
       "      <td>4</td>\n",
       "      <td>70</td>\n",
       "      <td>RL</td>\n",
       "      <td>60.0</td>\n",
       "      <td>9550</td>\n",
       "      <td>Pave</td>\n",
       "      <td>IR1</td>\n",
       "      <td>Lvl</td>\n",
       "      <td>AllPub</td>\n",
       "      <td>...</td>\n",
       "      <td>272</td>\n",
       "      <td>0</td>\n",
       "      <td>0</td>\n",
       "      <td>0</td>\n",
       "      <td>0</td>\n",
       "      <td>2</td>\n",
       "      <td>2006</td>\n",
       "      <td>WD</td>\n",
       "      <td>Abnorml</td>\n",
       "      <td>140000</td>\n",
       "    </tr>\n",
       "    <tr>\n",
       "      <th>4</th>\n",
       "      <td>4</td>\n",
       "      <td>5</td>\n",
       "      <td>60</td>\n",
       "      <td>RL</td>\n",
       "      <td>84.0</td>\n",
       "      <td>14260</td>\n",
       "      <td>Pave</td>\n",
       "      <td>IR1</td>\n",
       "      <td>Lvl</td>\n",
       "      <td>AllPub</td>\n",
       "      <td>...</td>\n",
       "      <td>0</td>\n",
       "      <td>0</td>\n",
       "      <td>0</td>\n",
       "      <td>0</td>\n",
       "      <td>0</td>\n",
       "      <td>12</td>\n",
       "      <td>2008</td>\n",
       "      <td>WD</td>\n",
       "      <td>Normal</td>\n",
       "      <td>250000</td>\n",
       "    </tr>\n",
       "  </tbody>\n",
       "</table>\n",
       "<p>5 rows × 78 columns</p>\n",
       "</div>"
      ],
      "text/plain": [
       "   Unnamed: 0  Id  MSSubClass MSZoning  LotFrontage  LotArea Street LotShape  \\\n",
       "0           0   1          60       RL         65.0     8450   Pave      Reg   \n",
       "1           1   2          20       RL         80.0     9600   Pave      Reg   \n",
       "2           2   3          60       RL         68.0    11250   Pave      IR1   \n",
       "3           3   4          70       RL         60.0     9550   Pave      IR1   \n",
       "4           4   5          60       RL         84.0    14260   Pave      IR1   \n",
       "\n",
       "  LandContour Utilities  ... EnclosedPorch 3SsnPorch ScreenPorch PoolArea  \\\n",
       "0         Lvl    AllPub  ...             0         0           0        0   \n",
       "1         Lvl    AllPub  ...             0         0           0        0   \n",
       "2         Lvl    AllPub  ...             0         0           0        0   \n",
       "3         Lvl    AllPub  ...           272         0           0        0   \n",
       "4         Lvl    AllPub  ...             0         0           0        0   \n",
       "\n",
       "  MiscVal MoSold YrSold  SaleType  SaleCondition  SalePrice  \n",
       "0       0      2   2008        WD         Normal     208500  \n",
       "1       0      5   2007        WD         Normal     181500  \n",
       "2       0      9   2008        WD         Normal     223500  \n",
       "3       0      2   2006        WD        Abnorml     140000  \n",
       "4       0     12   2008        WD         Normal     250000  \n",
       "\n",
       "[5 rows x 78 columns]"
      ]
     },
     "execution_count": 3,
     "metadata": {},
     "output_type": "execute_result"
    }
   ],
   "source": [
    "dataset=beam_me_up_Scotty('data/train_NoNAN.csv')\n",
    "dataset.head()"
   ]
  },
  {
   "cell_type": "markdown",
   "metadata": {},
   "source": [
    "<hr>\n",
    "Abaixo, defino uma função com o modelo RLM em si. O processo se divide em:\n",
    "    \n",
    "    1) Seleciono apenas as variáveis numéricas e separo as variáveis independentes (X) da dependente (y);\n",
    "    2) Divido o dados em :\n",
    "        Conjunto de treino (X_train e y_train), na qual aplicaremos o modelo MRL;\n",
    "        Conjunto de teste (X_test e y_test), com o qual testaremos o modelo;\n",
    "    3) Defino o tipo de modelo adotado (LinearRegression);\n",
    "    4) Aplico o modelo aos dados de treino para obter os coeficientes da regressão;\n",
    "    5) Aplico os coeficientes obtinos ao grupo de teste, obtendo assim valores preditos pelo modelo (y_pred)"
   ]
  },
  {
   "cell_type": "code",
   "execution_count": 7,
   "metadata": {},
   "outputs": [],
   "source": [
    "def MLR_model():\n",
    "   #1) \n",
    "    x_num = [ cname for cname in dataset.columns if dataset[cname].dtype in ['int64','float64']]\n",
    "    X=dataset[x_num].drop(['SalePrice'], axis=1)\n",
    "    y = dataset['SalePrice']\n",
    "   #2) \n",
    "    X_train, X_test, y_train, y_test = train_test_split(X, y, test_size=0.2, random_state=0)\n",
    "   #3) \n",
    "    regressor = LinearRegression()\n",
    "   #4) \n",
    "    regressor.fit(X_train, y_train)\n",
    "    coeff_df = pd.DataFrame(regressor.coef_, X.columns, columns=['Coefficient'])\n",
    "    coeff_df\n",
    "   #5) \n",
    "    y_pred = regressor.predict(X_test)\n",
    "    df = pd.DataFrame({'Actual': y_test, 'Predicted': y_pred})\n",
    "    print('Mean Absolute Error:', metrics.mean_absolute_error(y_test, y_pred))\n",
    "    print('Mean Squared Error:', metrics.mean_squared_error(y_test, y_pred))\n",
    "    print('Root Mean Squared Error:', np.sqrt(metrics.mean_squared_error(y_test, y_pred)))\n",
    "    print('Model Score: ',regressor.score(X_test,y_test))\n",
    "    sns.regplot(x='Actual', y='Predicted',data=df)\n",
    "    return df"
   ]
  },
  {
   "cell_type": "markdown",
   "metadata": {},
   "source": [
    "<hr>\n",
    "<h1>Vamos enfim ...</h1>  \n",
    "             executar a função MLR_model() com o arquivo sem dados faltantes:"
   ]
  },
  {
   "cell_type": "code",
   "execution_count": 5,
   "metadata": {},
   "outputs": [
    {
     "name": "stdout",
     "output_type": "stream",
     "text": [
      "(1412, 78)\n",
      "Mean Absolute Error: 22379.985777466212\n",
      "Mean Squared Error: 1256205599.7476935\n",
      "Root Mean Squared Error: 35442.99084089397\n",
      "Model Score:  0.8045712521623131\n"
     ]
    },
    {
     "data": {
      "image/png": "[encoded data removed]",
      "text/plain": [
       "<Figure size 432x288 with 1 Axes>"
      ]
     },
     "metadata": {
      "needs_background": "light"
     },
     "output_type": "display_data"
    }
   ],
   "source": [
    "dataset=beam_me_up_Scotty('data/train_NoNAN.csv') # Importo os dados novamente para evitar confusão na hora de testar e retestar os cript\n",
    "dataset.drop(['Unnamed: 0', 'Id'], axis = 1, inplace=True) # Removo itens não relevantes;\n",
    "df=MLR_model()\n"
   ]
  },
  {
   "cell_type": "markdown",
   "metadata": {},
   "source": [
    "<hr> \n",
    "<h1> Muito interessante! </h1>\n",
    "\n",
    "Com pouquíssimas linhas de código, temos um modelo que prediz o preço de venda de uma casa, em algum lugar dos EUA, a partir de um conjunto de informações acerca do imóvel e da negociação. \n",
    "<hr>\n",
    "<h1> Mas será que esse é um bom modelo? </h1>\n",
    "\n",
    "Na preparação dos dados vimos que há diversos Outliers no conjunto de dados. O teste acima foi aplicado no conjunto de dados que contém todos aqueles outliers. Ademais, não foi verificado se há variáveis colineares nesse conjunto de dados.\n",
    "\n",
    "\n",
    "Vamos abordar esses problemas! Para começar, vamos repetir o ajuste linear utilizando os dados sem outliers (removidos no programa Outliers.ipynb)."
   ]
  },
  {
   "cell_type": "code",
   "execution_count": 8,
   "metadata": {},
   "outputs": [
    {
     "name": "stdout",
     "output_type": "stream",
     "text": [
      "(552, 79)\n",
      "Numericos:  37\n",
      "Mean Absolute Error: 12839.589172151465\n",
      "Mean Squared Error: 283723737.1726114\n",
      "Root Mean Squared Error: 16844.100960651223\n",
      "Model Score:  0.8946165304759386\n"
     ]
    },
    {
     "data": {
      "image/png": "[encoded data removed]",
      "text/plain": [
       "<Figure size 432x288 with 1 Axes>"
      ]
     },
     "metadata": {
      "needs_background": "light"
     },
     "output_type": "display_data"
    }
   ],
   "source": [
    "dataset=beam_me_up_Scotty('data/train_NoNAN_NoOutlier.csv')[3:]\n",
    "dataset.drop(['Unnamed: 0', 'Id','Unnamed: 0.1'], axis = 1, inplace=True) # Removo itens não relevantes;\n",
    "#print(dataset. columns)\n",
    "df=MLR_model()\n"
   ]
  },
  {
   "cell_type": "markdown",
   "metadata": {},
   "source": [
    "<hr> \n",
    "<h1> Melhorou! </h1>\n",
    "\n",
    "Após removermos os outliers, nosso ajuste teve uma redução em todas as medidas de erro, e um aumento de Score para 0.89.\n",
    "O erro absoluto médio caiu para cerca de 13 mil dólares.\n",
    "\n",
    "\n",
    "<hr>\n",
    "<h1> Mas .... </h1>\n",
    "\n",
    "Embora tenhamos obtido um Score interessante, ainda não verificamos se há dados colineares comprometendo nossos resultados. E notem que até agora o trabalho ficou praticamente todo com os deselvolvedores da biblioteca scipy. O cientista de Dados fez praticamente nada até aqui!\n",
    "\n",
    "Será que é possível continuar trabalhando nesses dados para obtermos resultados mais consistentes?\n",
    "\n",
    "Vamos continuar a investigação em MLR_v1. "
   ]
  },
  {
   "cell_type": "code",
   "execution_count": null,
   "metadata": {},
   "outputs": [],
   "source": []
  }
 ],
 "metadata": {
  "kernelspec": {
   "display_name": "Python 3 (ipykernel)",
   "language": "python",
   "name": "python3"
  },
  "language_info": {
   "codemirror_mode": {
    "name": "ipython",
    "version": 3
   },
   "file_extension": ".py",
   "mimetype": "text/x-python",
   "name": "python",
   "nbconvert_exporter": "python",
   "pygments_lexer": "ipython3",
   "version": "3.7.6"
  }
 },
 "nbformat": 4,
 "nbformat_minor": 4
}
